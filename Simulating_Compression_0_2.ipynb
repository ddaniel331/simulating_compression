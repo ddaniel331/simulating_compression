{
 "cells": [
  {
   "cell_type": "markdown",
   "metadata": {},
   "source": [
    "# Simulating compression for fully non-wetting droplet"
   ]
  },
  {
   "cell_type": "markdown",
   "metadata": {},
   "source": [
    "<img src=\"Fig_S_force.png\" style=\"width:300px\">\n"
   ]
  },
  {
   "cell_type": "markdown",
   "metadata": {},
   "source": [
    "This code calculates the shape of a droplet with known volume $V$ subjected to some force $F$. $2w$ is the contact size at the cantilever. Instructions on setting up python on your computer can be found in https://swcarpentry.github.io/2013-08-23-harvard/.\n",
    "\n",
    "Libraries required:\n",
    "1. numpy\n",
    "2. matplotlib\n",
    "3. scipy\n",
    "4. seaborn\n"
   ]
  },
  {
   "cell_type": "markdown",
   "metadata": {},
   "source": [
    "## Set up Jupyter notebook"
   ]
  },
  {
   "cell_type": "code",
   "execution_count": 1,
   "metadata": {},
   "outputs": [],
   "source": [
    "import numpy as np\n",
    "import matplotlib.pyplot as plt\n",
    "import seaborn as sns\n",
    "\n",
    "from scipy.integrate import odeint\n",
    "from scipy.optimize import newton, fsolve\n",
    "from scipy.integrate import simps\n",
    "\n",
    "import warnings\n",
    "warnings.filterwarnings('ignore')"
   ]
  },
  {
   "cell_type": "markdown",
   "metadata": {},
   "source": [
    "## Laplace equation"
   ]
  },
  {
   "cell_type": "markdown",
   "metadata": {},
   "source": [
    "Non-dimensionalize all the quantities with respect by the droplet's width $2R$ and its surface tension $\\gamma_{o}$ i.e. \n",
    "\n",
    "\\begin{align}\n",
    "\\hat{F} &=  F \\gamma_{o}^{-1} R^{-1} \\\\\n",
    "\\hat{r} &=  r R^{-1} \\\\\n",
    "\\hat{V} &=  V R^{-3} \\\\\n",
    "\\Delta \\hat{P} &=  \\Delta P R \\gamma_{o}^{-1}, \\mathrm{etc}\n",
    "\\end{align}\n",
    "\n",
    "and hence, we get the non-dimensionalized Young-Laplace equation\n",
    "\n",
    "\\begin{align}\n",
    "\\frac{\\hat{u}''}{(1+\\hat{u}'^{2})^{3/2}} - \\frac{1}{\\hat{u}\\sqrt{1 + \\hat{u}'^{2}}}\n",
    "&= -\\Delta \\hat{P}; \\mathrm{for} \\; \\hat{z} \\in (0, \\hat{H}) \\\\\n",
    "\\end{align}\n",
    "\n",
    "subject to the boundary conditions\n",
    "\\begin{align}\n",
    "\\hat{u}(0) &= \\hat{r} \\\\\n",
    "\\hat{u}(\\hat{H}) &= \\hat{w} \\\\\n",
    "\\int_{0}^{\\hat{H}} \\pi \\hat{u}^{2}d\\hat{z} &= \\hat{V} \\\\\n",
    "\\end{align}\n",
    "\n",
    "and \n",
    "\n",
    "\\begin{align}\n",
    "\\hat{F} &= \\pi \\hat{r}^{2}\\Delta \\hat{P}.  \n",
    "\\end{align}\n",
    "\n",
    "Using the shooting method, we chose to frame the Young-Laplace equation as an initial value problem, with initial values\n",
    "\n",
    "\\begin{align}\n",
    "\\hat{u}(0) &= \\hat{r} \\\\\n",
    "\\hat{u}'(0) &= 0,\n",
    "\\end{align}\n",
    "\n",
    "while requiring that\n",
    "\n",
    "$$\\mathbf{\\hat{m}}(\\hat{r}, \\Delta \\hat{P}, \\hat{\\gamma}) =\n",
    "\\begin{pmatrix} \\hat{u}(\\hat{H})- \\hat{w} \\\\ \n",
    "\\int_{0}^{\\hat{H}} \\pi \\hat{u}^{2}d\\hat{z} - \\hat{V}\n",
    "\\end{pmatrix} = 0$$.\n",
    "\n",
    "This converts the boundary value problem into a root-finding problem of $\\mathbf{\\hat{m}}=0$, as implemented below"
   ]
  },
  {
   "cell_type": "code",
   "execution_count": 2,
   "metadata": {},
   "outputs": [],
   "source": [
    "n_point = 10000  # number of points to plot droplet profile\n",
    "slope_val = 1e5 # close to infinite\n",
    "# u = [u, u', dP]\n",
    "def ode(u, z):\n",
    "    return np.array([u[1], (1+u[1]**2)**(1.5)*(1/(u[0]*np.sqrt(1+u[1]**2)) - u[2]), 0])  \n",
    "\n",
    "# Calculate the residue \n",
    "def m_res(x, h_f, a):\n",
    "    \n",
    "    r = x[0]\n",
    "    dP = x[1]\n",
    "    \n",
    "    z_arr = np.linspace(0, h_f, n_point)\n",
    "\n",
    "    y_start = np.array([r, slope_val, dP])\n",
    "    sol = odeint(ode, y_start, z_arr, atol=1e-10)\n",
    "    u_arr = sol[:,0]\n",
    "    dP_arr = sol[:,2]\n",
    "    \n",
    "#     u_arr_1 = u_arr[dP_arr == dP]\n",
    "#     z_arr_1 = z_arr[dP_arr == dP]\n",
    "#     V_int = simps(np.pi*u_arr_1**2, z_arr_1)\n",
    "    V_int = simps(np.pi*u_arr**2, z_arr)\n",
    "    u_h = u_arr[-1]\n",
    "    \n",
    "    return np.array([a-u_h, V_norm-V_int])\n",
    "        \n",
    "    \n",
    "def calculate_sol(x, hf):\n",
    "    r = x[0]\n",
    "    dP = x[1]\n",
    "    \n",
    "    z_arr = np.linspace(0, hf, n_point)\n",
    "\n",
    "    y_start = np.array([r, slope_val, dP])\n",
    "    sol = odeint(ode, y_start, z_arr, atol=1e-10)\n",
    "    u_arr = sol[:,0]\n",
    "    dP_arr = sol[:,2]\n",
    "    dP = dP_arr[0]\n",
    "#     u_arr_1 = u_arr[dP_arr == dP]\n",
    "#     z_arr_1 = z_arr[dP_arr == dP]\n",
    "#     V_int = simps(np.pi*u_arr_1**2, z_arr_1)\n",
    "    V_int = simps(np.pi*u_arr**2, z_arr)\n",
    "    F_sol = dP*np.pi*r**2\n",
    "    \n",
    "    return z_arr, u_arr, dP, V_int, F_sol"
   ]
  },
  {
   "cell_type": "markdown",
   "metadata": {},
   "source": [
    "# Example"
   ]
  },
  {
   "cell_type": "markdown",
   "metadata": {},
   "source": [
    "Give a concrete example. Note that for a spherical cap, \n",
    "\\begin{align}\n",
    "V &=  \\frac{\\pi}{3}h^{2}(3R - h) = \\frac{\\pi}{6}h(3a^{2} + h^{2}) \\\\\n",
    "h &= R + \\sqrt{R^{2}-a^{2}}\n",
    "\\end{align}"
   ]
  },
  {
   "cell_type": "code",
   "execution_count": 3,
   "metadata": {},
   "outputs": [
    {
     "name": "stdout",
     "output_type": "stream",
     "text": [
      "[-2.30987451e-12  1.21680443e-13]\n",
      "[0.09026932 2.00823882]\n"
     ]
    }
   ],
   "source": [
    "# for a particular value of a_norm value\n",
    "w_norm = 0.2\n",
    "H_norm_i = 1.+np.sqrt(1-w_norm**2)\n",
    "V_norm = np.pi/6*H_norm_i*(3*w_norm**2+H_norm_i**2)\n",
    "\n",
    "H_norm = 0.98*H_norm_i\n",
    "delta = H_norm_i-H_norm\n",
    "\n",
    "# guess values (non-dimensionalized)\n",
    "dP = 2.0                       \n",
    "r0 = 0.05*np.sqrt(delta)\n",
    "\n",
    "x_guess = np.array([r0, dP])\n",
    "\n",
    "# root-finding solver, look for solution m=0\n",
    "x_opt = fsolve(m_res, x_guess, args=(H_norm, w_norm))\n",
    "print (m_res(x_opt, H_norm, w_norm))\n",
    "print (x_opt)\n"
   ]
  },
  {
   "cell_type": "code",
   "execution_count": 4,
   "metadata": {},
   "outputs": [
    {
     "name": "stdout",
     "output_type": "stream",
     "text": [
      "0.05140975529549324\n"
     ]
    },
    {
     "data": {
      "image/png": "[encoded data removed]",
      "text/plain": [
       "<Figure size 432x288 with 1 Axes>"
      ]
     },
     "metadata": {},
     "output_type": "display_data"
    }
   ],
   "source": [
    "sns.set_style(\"ticks\")\n",
    "color_b = sns.xkcd_rgb[\"marine\"]\n",
    "\n",
    "z_sol, u_sol, p_sol, V_sol, F_sol = calculate_sol(x_opt, H_norm)\n",
    " \n",
    "print (F_sol)\n",
    "z_shift = 0. # shifting the base by 10 um\n",
    "\n",
    "plt.plot(u_sol, z_sol+z_shift, color=color_b)\n",
    "plt.plot(-u_sol, z_sol+z_shift, color=color_b)\n",
    "\n",
    "plt.plot([-2, 2], [z_shift, z_shift], '-k') # plotting the base\n",
    "plt.plot([-w_norm, w_norm], [H_norm+z_shift, H_norm+z_shift], '-k', alpha=0.5, lw=5)\n",
    "\n",
    "plt.xlim([-2,2])\n",
    "plt.xlabel(\"x\")\n",
    "plt.ylabel(\"z\")\n",
    "\n",
    "plt.axes().set_aspect('equal')"
   ]
  },
  {
   "cell_type": "code",
   "execution_count": 5,
   "metadata": {},
   "outputs": [
    {
     "name": "stdout",
     "output_type": "stream",
     "text": [
      "0.05140975529549324\n"
     ]
    },
    {
     "data": {
      "image/png": "[encoded data removed]",
      "text/plain": [
       "<Figure size 432x288 with 1 Axes>"
      ]
     },
     "metadata": {},
     "output_type": "display_data"
    }
   ],
   "source": [
    "sns.set_style(\"ticks\")\n",
    "sns.set_style(\"ticks\")\n",
    "color_b = sns.xkcd_rgb[\"marine\"]\n",
    "\n",
    "z_sol, u_sol, p_sol, V_sol, F_sol = calculate_sol(x_opt, H_norm)\n",
    " \n",
    "print (F_sol)\n",
    "z_shift = 0 # shifting the base by 10 um\n",
    "\n",
    "plt.plot(u_sol, z_sol+z_shift, color=color_b)\n",
    "plt.plot(-u_sol, z_sol+z_shift, color=color_b)\n",
    "\n",
    "plt.plot([-2, 2], [z_shift, z_shift], '-k') # plotting the base\n",
    "plt.plot([-w_norm, w_norm], [H_norm+z_shift, H_norm+z_shift], '-k', alpha=0.5, lw=5)\n",
    "\n",
    "plt.xlim([-0.5,0.5])\n",
    "plt.ylim([-0.01, 0.1])\n",
    "plt.xlabel(\"x\")\n",
    "plt.ylabel(\"z\")\n",
    "\n",
    "plt.axes().set_aspect('equal')\n"
   ]
  },
  {
   "cell_type": "markdown",
   "metadata": {},
   "source": [
    "## Solving for different compression"
   ]
  },
  {
   "cell_type": "code",
   "execution_count": 6,
   "metadata": {},
   "outputs": [],
   "source": [
    "H_i = 0.999*H_norm_i\n",
    "H_f = 0.95*H_norm_i\n",
    "\n",
    "\n",
    "dP = 2.0                       \n",
    "r0 = 0.05*np.sqrt(delta)\n",
    "\n",
    "H_arr = np.linspace(H_i, H_f, 200)\n",
    "\n",
    "r_arr = np.array([]) \n",
    "P_arr = np.array([])\n",
    "err_arr = np.array([])\n",
    "\n",
    "x_guess = np.array([r0, dP])\n",
    "\n",
    "for H_val in H_arr:\n",
    "    \n",
    "    H_norm = H_val\n",
    "#     print H_norm\n",
    "    #root-finding solver, look for solution m=0\n",
    "    x_opt = fsolve(m_res, x_guess, args=(H_norm, w_norm))\n",
    "    r_arr = np.append(r_arr, x_opt[0])\n",
    "    P_arr = np.append(P_arr, x_opt[1])\n",
    "    err_arr = np.append(err_arr, np.linalg.norm(m_res(x_opt, H_norm, w_norm)))\n",
    "      \n",
    "    x_guess = np.array([x_opt[0], x_opt[1]])\n",
    "\n",
    "    "
   ]
  },
  {
   "cell_type": "code",
   "execution_count": 7,
   "metadata": {},
   "outputs": [],
   "source": [
    "F_arr = np.pi*r_arr**2*P_arr"
   ]
  },
  {
   "cell_type": "markdown",
   "metadata": {},
   "source": [
    "Numerical errors are small"
   ]
  },
  {
   "cell_type": "code",
   "execution_count": 8,
   "metadata": {},
   "outputs": [
    {
     "data": {
      "text/plain": [
       "[<matplotlib.lines.Line2D at 0x1a23a81450>]"
      ]
     },
     "execution_count": 8,
     "metadata": {},
     "output_type": "execute_result"
    },
    {
     "data": {
      "image/png": "[encoded data removed]",
      "text/plain": [
       "<Figure size 432x288 with 1 Axes>"
      ]
     },
     "metadata": {},
     "output_type": "display_data"
    }
   ],
   "source": [
    "# error is small\n",
    "plt.plot(H_norm_i-H_arr, err_arr)\n"
   ]
  },
  {
   "cell_type": "markdown",
   "metadata": {},
   "source": [
    "# Find scaling"
   ]
  },
  {
   "cell_type": "markdown",
   "metadata": {},
   "source": [
    "A good scaling fit is $\\hat{F}$ = 1.9 $\\hat{\\delta}$ or in dimensionalized form $F$ = 1.9 $\\gamma$ $R^{-0.1}$ $\\delta^{1.1}$"
   ]
  },
  {
   "cell_type": "code",
   "execution_count": 10,
   "metadata": {},
   "outputs": [
    {
     "data": {
      "text/plain": [
       "Text(0.5, 0, 'Non-dimensional deformation')"
      ]
     },
     "execution_count": 10,
     "metadata": {},
     "output_type": "execute_result"
    },
    {
     "data": {
      "image/png": "[encoded data removed]",
      "text/plain": [
       "<Figure size 432x288 with 1 Axes>"
      ]
     },
     "metadata": {},
     "output_type": "display_data"
    }
   ],
   "source": [
    "a_fit = 1.9\n",
    "b_fit = 1.11\n",
    "d_arr = H_norm_i-H_arr\n",
    "F_fit = a_fit*d_arr**b_fit\n",
    "plt.plot(d_arr, F_arr)\n",
    "plt.plot(d_arr, F_fit, '--k', alpha=0.5)\n",
    "plt.ylabel('Non-dimensional force')\n",
    "plt.xlabel('Non-dimensional deformation')"
   ]
  },
  {
   "cell_type": "code",
   "execution_count": null,
   "metadata": {},
   "outputs": [],
   "source": []
  }
 ],
 "metadata": {
  "kernelspec": {
   "display_name": "Python 3",
   "language": "python",
   "name": "python3"
  },
  "language_info": {
   "codemirror_mode": {
    "name": "ipython",
    "version": 3
   },
   "file_extension": ".py",
   "mimetype": "text/x-python",
   "name": "python",
   "nbconvert_exporter": "python",
   "pygments_lexer": "ipython3",
   "version": "3.7.4"
  }
 },
 "nbformat": 4,
 "nbformat_minor": 4
}
